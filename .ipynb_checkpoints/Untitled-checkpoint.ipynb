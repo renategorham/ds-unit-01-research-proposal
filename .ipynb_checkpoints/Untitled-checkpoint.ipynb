{
 "cells": [
  {
   "cell_type": "markdown",
   "metadata": {},
   "source": [
    "# DRILL: Make a quick research proposal  \n",
    "Unit 1 / Lesson 4 / Project 5"
   ]
  },
  {
   "cell_type": "markdown",
   "metadata": {},
   "source": [
    "##### Problem  \n",
    "Students were observed to be cheating on test. Cheating, besides being against academic ethics, handicaps the efforts of non-cheating students."
   ]
  },
  {
   "cell_type": "markdown",
   "metadata": {},
   "source": [
    "##### Potential solution  \n",
    "One way students cheat is to look at neighbors answers during the test period. One solution would be to limit the ability ability for looking at neighboring test, by dispersing different versions of the test so that a neighbor's test would likely be different than the student's test."
   ]
  },
  {
   "cell_type": "markdown",
   "metadata": {},
   "source": [
    "##### Methods  \n",
    "Measure the baseline cheating rate (count of incidents per test session) using a single test version for five separate test.   \n",
    "Create test version equal to the number of class desk columns plus one. So if there four columns of desks there should be five test versions. There should be no neighboring test versions.  \n",
    "Test versions should start with the same questions, then in each version randomly reorder the questions and change the context of the questions, without changing the quality.  \n",
    "Measure the cheating rate for multiple test versions for five separate tests. If cheating is significantly reduced by two standard deviations, implement a policy of multiple test versions. If cheating rate is not reduced, look for other solutions."
   ]
  },
  {
   "cell_type": "code",
   "execution_count": null,
   "metadata": {},
   "outputs": [],
   "source": []
  }
 ],
 "metadata": {
  "kernelspec": {
   "display_name": "Python 3",
   "language": "python",
   "name": "python3"
  },
  "language_info": {
   "codemirror_mode": {
    "name": "ipython",
    "version": 3
   },
   "file_extension": ".py",
   "mimetype": "text/x-python",
   "name": "python",
   "nbconvert_exporter": "python",
   "pygments_lexer": "ipython3",
   "version": "3.7.0"
  },
  "toc": {
   "base_numbering": 1,
   "nav_menu": {},
   "number_sections": true,
   "sideBar": true,
   "skip_h1_title": true,
   "title_cell": "",
   "title_sidebar": "Contents",
   "toc_cell": false,
   "toc_position": {},
   "toc_section_display": true,
   "toc_window_display": true
  }
 },
 "nbformat": 4,
 "nbformat_minor": 2
}
